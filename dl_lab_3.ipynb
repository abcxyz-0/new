{
 "cells": [
  {
   "cell_type": "code",
   "execution_count": 2,
   "metadata": {},
   "outputs": [
    {
     "name": "stdout",
     "output_type": "stream",
     "text": [
      "WARNING:tensorflow:From a:\\Project\\ML_project_01\\venv\\lib\\site-packages\\keras\\src\\losses.py:2976: The name tf.losses.sparse_softmax_cross_entropy is deprecated. Please use tf.compat.v1.losses.sparse_softmax_cross_entropy instead.\n",
      "\n"
     ]
    }
   ],
   "source": [
    "import tensorflow as tf\n",
    "from tensorflow.keras.datasets import imdb \n",
    "from tensorflow.keras.models import Sequential\n",
    "from tensorflow.keras.layers import Embedding, LSTM, Dense\n",
    "from tensorflow.keras.preprocessing.sequence import pad_sequences"
   ]
  },
  {
   "cell_type": "code",
   "execution_count": 3,
   "metadata": {},
   "outputs": [],
   "source": [
    "max_features = 10000 # Number of words to consider as features\n",
    "maxlen = 100 # Cut texts after this number of words (among top max_features most common words)\n",
    "batch_size = 32"
   ]
  },
  {
   "cell_type": "code",
   "execution_count": 4,
   "metadata": {},
   "outputs": [
    {
     "name": "stdout",
     "output_type": "stream",
     "text": [
      "Downloading data from https://storage.googleapis.com/tensorflow/tf-keras-datasets/imdb.npz\n",
      "17464789/17464789 [==============================] - 4s 0us/step\n"
     ]
    }
   ],
   "source": [
    "(x_train, y_train), (x_test, y_test) = imdb.load_data(num_words=max_features)"
   ]
  },
  {
   "cell_type": "code",
   "execution_count": 6,
   "metadata": {},
   "outputs": [
    {
     "name": "stdout",
     "output_type": "stream",
     "text": [
      "WARNING:tensorflow:From a:\\Project\\ML_project_01\\venv\\lib\\site-packages\\keras\\src\\backend.py:873: The name tf.get_default_graph is deprecated. Please use tf.compat.v1.get_default_graph instead.\n",
      "\n"
     ]
    }
   ],
   "source": [
    "x_train = pad_sequences(x_train, maxlen=maxlen) \n",
    "x_test = pad_sequences(x_test, maxlen=maxlen)\n",
    "# Build the RNN model with LSTM \n",
    "model = Sequential()\n",
    "model.add(Embedding(max_features, 128)) \n",
    "model.add(LSTM(64, dropout=0.2, recurrent_dropout=0.2)) \n",
    "model.add(Dense(1, activation='sigmoid'))\n"
   ]
  },
  {
   "cell_type": "code",
   "execution_count": 8,
   "metadata": {},
   "outputs": [
    {
     "name": "stdout",
     "output_type": "stream",
     "text": [
      "WARNING:tensorflow:From a:\\Project\\ML_project_01\\venv\\lib\\site-packages\\keras\\src\\optimizers\\__init__.py:309: The name tf.train.Optimizer is deprecated. Please use tf.compat.v1.train.Optimizer instead.\n",
      "\n",
      "Epoch 1/5\n",
      "WARNING:tensorflow:From a:\\Project\\ML_project_01\\venv\\lib\\site-packages\\keras\\src\\utils\\tf_utils.py:492: The name tf.ragged.RaggedTensorValue is deprecated. Please use tf.compat.v1.ragged.RaggedTensorValue instead.\n",
      "\n",
      "WARNING:tensorflow:From a:\\Project\\ML_project_01\\venv\\lib\\site-packages\\keras\\src\\engine\\base_layer_utils.py:384: The name tf.executing_eagerly_outside_functions is deprecated. Please use tf.compat.v1.executing_eagerly_outside_functions instead.\n",
      "\n",
      "782/782 [==============================] - 211s 257ms/step - loss: 0.4172 - accuracy: 0.8048 - val_loss: 0.3570 - val_accuracy: 0.8502\n",
      "Epoch 2/5\n",
      "782/782 [==============================] - 136s 174ms/step - loss: 0.2673 - accuracy: 0.8911 - val_loss: 0.3788 - val_accuracy: 0.8431\n",
      "Epoch 3/5\n",
      "782/782 [==============================] - 146s 187ms/step - loss: 0.1900 - accuracy: 0.9285 - val_loss: 0.3734 - val_accuracy: 0.8440\n",
      "Epoch 4/5\n",
      "782/782 [==============================] - 132s 169ms/step - loss: 0.1449 - accuracy: 0.9473 - val_loss: 0.4260 - val_accuracy: 0.8350\n",
      "Epoch 5/5\n",
      "782/782 [==============================] - 143s 182ms/step - loss: 0.1102 - accuracy: 0.9596 - val_loss: 0.4574 - val_accuracy: 0.8268\n",
      "782/782 [==============================] - 34s 44ms/step - loss: 0.4574 - accuracy: 0.8268\n",
      "Test score: 0.4574105739593506\n",
      "Test accuracy: 0.8268399834632874\n"
     ]
    }
   ],
   "source": [
    "# Compile the model \n",
    "model.compile(loss='binary_crossentropy',optimizer='adam', metrics=['accuracy'])\n",
    "# Train the model \n",
    "model.fit(x_train, y_train,batch_size=batch_size, epochs=5, validation_data=(x_test, y_test))\n",
    "# Evaluate the model\n",
    "score, acc = model.evaluate(x_test, y_test, batch_size=batch_size) \n",
    "print(f'Test score: {score}')\n",
    "print(f'Test accuracy: {acc}')"
   ]
  },
  {
   "cell_type": "code",
   "execution_count": 9,
   "metadata": {},
   "outputs": [
    {
     "name": "stdout",
     "output_type": "stream",
     "text": [
      "test accuracy : 0.8268399834632874 \n",
      "test-score :0.4574105739593506 \n"
     ]
    }
   ],
   "source": [
    "print(f'test accuracy : {acc} ')\n",
    "print(f'test-score :{score} ')"
   ]
  },
  {
   "cell_type": "code",
   "execution_count": null,
   "metadata": {},
   "outputs": [],
   "source": []
  }
 ],
 "metadata": {
  "kernelspec": {
   "display_name": "Python 3",
   "language": "python",
   "name": "python3"
  },
  "language_info": {
   "codemirror_mode": {
    "name": "ipython",
    "version": 3
   },
   "file_extension": ".py",
   "mimetype": "text/x-python",
   "name": "python",
   "nbconvert_exporter": "python",
   "pygments_lexer": "ipython3",
   "version": "3.9.16"
  }
 },
 "nbformat": 4,
 "nbformat_minor": 2
}
