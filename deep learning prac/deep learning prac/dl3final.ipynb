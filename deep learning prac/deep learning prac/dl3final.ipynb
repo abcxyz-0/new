{
 "cells": [
  {
   "cell_type": "code",
   "execution_count": 1,
   "metadata": {},
   "outputs": [],
   "source": [
    "import tensorflow as tf\n",
    "from tensorflow.keras.datasets import imdb \n",
    "from tensorflow.keras.models import Sequential\n",
    "from tensorflow.keras.layers import Embedding, LSTM, Dense\n",
    "from tensorflow.keras.preprocessing.sequence import pad_sequences"
   ]
  },
  {
   "cell_type": "code",
   "execution_count": 2,
   "metadata": {},
   "outputs": [],
   "source": [
    "max_features = 10000 # Number of words to consider as features\n",
    "maxlen = 100 # Cut texts after this number of words (among top max_features most common words)\n",
    "batch_size = 32"
   ]
  },
  {
   "cell_type": "code",
   "execution_count": 3,
   "metadata": {},
   "outputs": [],
   "source": [
    "(x_train, y_train), (x_test, y_test) = imdb.load_data(num_words=max_features)"
   ]
  },
  {
   "cell_type": "code",
   "execution_count": 4,
   "metadata": {},
   "outputs": [],
   "source": [
    "x_train = pad_sequences(x_train, maxlen=maxlen) \n",
    "x_test = pad_sequences(x_test, maxlen=maxlen)\n",
    "# Build the RNN model with LSTM \n",
    "model = Sequential()\n",
    "model.add(Embedding(max_features, 128)) \n",
    "model.add(LSTM(64, dropout=0.2, recurrent_dropout=0.2)) \n",
    "model.add(Dense(1, activation='sigmoid'))\n"
   ]
  },
  {
   "cell_type": "code",
   "execution_count": 5,
   "metadata": {},
   "outputs": [
    {
     "name": "stdout",
     "output_type": "stream",
     "text": [
      "Epoch 1/5\n",
      "782/782 [==============================] - 100s 124ms/step - loss: 0.4143 - accuracy: 0.8027 - val_loss: 0.3480 - val_accuracy: 0.8472\n",
      "Epoch 2/5\n",
      "782/782 [==============================] - 101s 129ms/step - loss: 0.2603 - accuracy: 0.8960 - val_loss: 0.3680 - val_accuracy: 0.8439\n",
      "Epoch 3/5\n",
      "782/782 [==============================] - 100s 127ms/step - loss: 0.1892 - accuracy: 0.9264 - val_loss: 0.4051 - val_accuracy: 0.8426\n",
      "Epoch 4/5\n",
      "782/782 [==============================] - 102s 130ms/step - loss: 0.1378 - accuracy: 0.9496 - val_loss: 0.4443 - val_accuracy: 0.8409\n",
      "Epoch 5/5\n",
      "782/782 [==============================] - 100s 128ms/step - loss: 0.1073 - accuracy: 0.9613 - val_loss: 0.5821 - val_accuracy: 0.8291\n",
      "782/782 [==============================] - 18s 23ms/step - loss: 0.5821 - accuracy: 0.8291\n",
      "Test score: 0.5821175575256348\n",
      "Test accuracy: 0.8290799856185913\n"
     ]
    }
   ],
   "source": [
    "# Compile the model \n",
    "model.compile(loss='binary_crossentropy',optimizer='adam', metrics=['accuracy'])\n",
    "# Train the model \n",
    "model.fit(x_train, y_train,batch_size=batch_size, epochs=5, validation_data=(x_test, y_test))\n",
    "# Evaluate the model\n",
    "score, acc = model.evaluate(x_test, y_test, batch_size=batch_size) \n",
    "print(f'Test score: {score}')\n",
    "print(f'Test accuracy: {acc}')"
   ]
  },
  {
   "cell_type": "code",
   "execution_count": 6,
   "metadata": {},
   "outputs": [
    {
     "name": "stdout",
     "output_type": "stream",
     "text": [
      "test accuracy : 0.8290799856185913 \n",
      "test-score :0.5821175575256348 \n"
     ]
    }
   ],
   "source": [
    "print(f'test accuracy : {acc} ')\n",
    "print(f'test-score :{score} ')"
   ]
  },
  {
   "cell_type": "code",
   "execution_count": null,
   "metadata": {},
   "outputs": [],
   "source": []
  }
 ],
 "metadata": {
  "kernelspec": {
   "display_name": "Python 3",
   "language": "python",
   "name": "python3"
  },
  "language_info": {
   "codemirror_mode": {
    "name": "ipython",
    "version": 3
   },
   "file_extension": ".py",
   "mimetype": "text/x-python",
   "name": "python",
   "nbconvert_exporter": "python",
   "pygments_lexer": "ipython3",
   "version": "3.9.4"
  }
 },
 "nbformat": 4,
 "nbformat_minor": 2
}
